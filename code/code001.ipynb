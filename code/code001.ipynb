{
 "cells": [
  {
   "cell_type": "code",
   "execution_count": 43,
   "id": "7eab78dc-7363-49cb-8cf8-29736defc9f7",
   "metadata": {},
   "outputs": [],
   "source": [
    "import pandas as pd\n",
    "import numpy as np\n",
    "import pandas_profiling\n",
    "import seaborn as sns\n",
    "from matplotlib import rcParams"
   ]
  },
  {
   "cell_type": "code",
   "execution_count": 22,
   "id": "6170caa2-019b-4472-8ce7-460859d2affb",
   "metadata": {},
   "outputs": [],
   "source": [
    "sns.set_theme(style=\"whitegrid\")"
   ]
  },
  {
   "cell_type": "code",
   "execution_count": 10,
   "id": "4cf27799-8c45-45ba-8f88-fd0b5356c99f",
   "metadata": {},
   "outputs": [],
   "source": [
    "# TODO: Extract_Extract"
   ]
  },
  {
   "cell_type": "code",
   "execution_count": 2,
   "id": "ccbbaa03-8bfd-4330-a476-84daa660996c",
   "metadata": {},
   "outputs": [],
   "source": [
    "df = pd.read_csv(\"../data/14-10-0095 Extract_Extract.csv\")"
   ]
  },
  {
   "cell_type": "code",
   "execution_count": 3,
   "id": "1d5f9862-8875-4ed3-a9bd-5801e2f1c809",
   "metadata": {},
   "outputs": [
    {
     "data": {
      "text/html": [
       "<div>\n",
       "<style scoped>\n",
       "    .dataframe tbody tr th:only-of-type {\n",
       "        vertical-align: middle;\n",
       "    }\n",
       "\n",
       "    .dataframe tbody tr th {\n",
       "        vertical-align: top;\n",
       "    }\n",
       "\n",
       "    .dataframe thead th {\n",
       "        text-align: right;\n",
       "    }\n",
       "</style>\n",
       "<table border=\"1\" class=\"dataframe\">\n",
       "  <thead>\n",
       "    <tr style=\"text-align: right;\">\n",
       "      <th></th>\n",
       "      <th>_comparatorDate</th>\n",
       "      <th>_labourCategory</th>\n",
       "      <th>_previousMonth</th>\n",
       "      <th>_previousYear</th>\n",
       "      <th>Age group</th>\n",
       "      <th>Date</th>\n",
       "      <th>Labour force characteristics</th>\n",
       "      <th>Sex</th>\n",
       "      <th>_valueConnector</th>\n",
       "      <th>Value</th>\n",
       "    </tr>\n",
       "  </thead>\n",
       "  <tbody>\n",
       "    <tr>\n",
       "      <th>0</th>\n",
       "      <td>March 2005</td>\n",
       "      <td>NaN</td>\n",
       "      <td>2006-02-01</td>\n",
       "      <td>2005-03-01</td>\n",
       "      <td>All working ages (15+)</td>\n",
       "      <td>2006-03-01</td>\n",
       "      <td>Unemployment Rate</td>\n",
       "      <td>Everyone</td>\n",
       "      <td>5.6</td>\n",
       "      <td>5.6</td>\n",
       "    </tr>\n",
       "    <tr>\n",
       "      <th>1</th>\n",
       "      <td>March 2005</td>\n",
       "      <td>15 to 24</td>\n",
       "      <td>2006-02-01</td>\n",
       "      <td>2005-03-01</td>\n",
       "      <td>15 to 24 years</td>\n",
       "      <td>2006-03-01</td>\n",
       "      <td>Participation Rate</td>\n",
       "      <td>Everyone</td>\n",
       "      <td>65.2</td>\n",
       "      <td>65.2</td>\n",
       "    </tr>\n",
       "    <tr>\n",
       "      <th>2</th>\n",
       "      <td>April 2005</td>\n",
       "      <td>15 to 24</td>\n",
       "      <td>2006-03-01</td>\n",
       "      <td>2005-04-01</td>\n",
       "      <td>15 to 24 years</td>\n",
       "      <td>2006-04-01</td>\n",
       "      <td>Participation Rate</td>\n",
       "      <td>Everyone</td>\n",
       "      <td>65.7</td>\n",
       "      <td>65.7</td>\n",
       "    </tr>\n",
       "    <tr>\n",
       "      <th>3</th>\n",
       "      <td>May 2005</td>\n",
       "      <td>15 to 24</td>\n",
       "      <td>2006-04-01</td>\n",
       "      <td>2005-05-01</td>\n",
       "      <td>15 to 24 years</td>\n",
       "      <td>2006-05-01</td>\n",
       "      <td>Participation Rate</td>\n",
       "      <td>Everyone</td>\n",
       "      <td>68.5</td>\n",
       "      <td>68.5</td>\n",
       "    </tr>\n",
       "    <tr>\n",
       "      <th>4</th>\n",
       "      <td>June 2005</td>\n",
       "      <td>15 to 24</td>\n",
       "      <td>2006-05-01</td>\n",
       "      <td>2005-06-01</td>\n",
       "      <td>15 to 24 years</td>\n",
       "      <td>2006-06-01</td>\n",
       "      <td>Participation Rate</td>\n",
       "      <td>Everyone</td>\n",
       "      <td>71.5</td>\n",
       "      <td>71.5</td>\n",
       "    </tr>\n",
       "  </tbody>\n",
       "</table>\n",
       "</div>"
      ],
      "text/plain": [
       "  _comparatorDate _labourCategory _previousMonth _previousYear  \\\n",
       "0      March 2005             NaN     2006-02-01    2005-03-01   \n",
       "1      March 2005        15 to 24     2006-02-01    2005-03-01   \n",
       "2      April 2005        15 to 24     2006-03-01    2005-04-01   \n",
       "3        May 2005        15 to 24     2006-04-01    2005-05-01   \n",
       "4       June 2005        15 to 24     2006-05-01    2005-06-01   \n",
       "\n",
       "                Age group        Date Labour force characteristics       Sex  \\\n",
       "0  All working ages (15+)  2006-03-01            Unemployment Rate  Everyone   \n",
       "1          15 to 24 years  2006-03-01           Participation Rate  Everyone   \n",
       "2          15 to 24 years  2006-04-01           Participation Rate  Everyone   \n",
       "3          15 to 24 years  2006-05-01           Participation Rate  Everyone   \n",
       "4          15 to 24 years  2006-06-01           Participation Rate  Everyone   \n",
       "\n",
       "   _valueConnector  Value  \n",
       "0              5.6    5.6  \n",
       "1             65.2   65.2  \n",
       "2             65.7   65.7  \n",
       "3             68.5   68.5  \n",
       "4             71.5   71.5  "
      ]
     },
     "execution_count": 3,
     "metadata": {},
     "output_type": "execute_result"
    }
   ],
   "source": [
    "df.head()"
   ]
  },
  {
   "cell_type": "code",
   "execution_count": 7,
   "id": "c8cbefb3-e16f-4d0f-9f56-b84f63b0189c",
   "metadata": {},
   "outputs": [
    {
     "name": "stderr",
     "output_type": "stream",
     "text": [
      "Summarize dataset: 100%|██████████| 29/29 [00:03<00:00,  8.60it/s, Completed]                                    \n",
      "Generate report structure: 100%|██████████| 1/1 [00:01<00:00,  1.35s/it]\n",
      "Render HTML: 100%|██████████| 1/1 [00:00<00:00,  2.19it/s]\n",
      "Export report to file: 100%|██████████| 1/1 [00:00<00:00, 268.32it/s]\n"
     ]
    }
   ],
   "source": [
    "profile_ = df.profile_report()\n",
    "profile_.to_file(output_file=\"../reports/REPORT001.html\")"
   ]
  },
  {
   "cell_type": "code",
   "execution_count": 9,
   "id": "73fc506c-c7d9-49fc-91e5-a80687a8f03f",
   "metadata": {},
   "outputs": [
    {
     "data": {
      "text/plain": [
       "<AxesSubplot:>"
      ]
     },
     "execution_count": 9,
     "metadata": {},
     "output_type": "execute_result"
    },
    {
     "data": {
      "image/png": "[encoded data removed]",
      "text/plain": [
       "<Figure size 432x288 with 2 Axes>"
      ]
     },
     "metadata": {
      "needs_background": "light"
     },
     "output_type": "display_data"
    }
   ],
   "source": [
    "sns.heatmap(df.corr())"
   ]
  },
  {
   "cell_type": "code",
   "execution_count": 11,
   "id": "958fab26-efc8-4ab5-a8c1-2f90878eebf6",
   "metadata": {},
   "outputs": [],
   "source": [
    "# TODO: weekly_avg_wait_times"
   ]
  },
  {
   "cell_type": "code",
   "execution_count": 14,
   "id": "12cb674d-3419-4b59-a2f8-73ed57292fc1",
   "metadata": {},
   "outputs": [],
   "source": [
    "df2 = pd.read_csv(\"../data/weekly_avg_wait_times.csv\")"
   ]
  },
  {
   "cell_type": "code",
   "execution_count": 18,
   "id": "99e60c98-f2b3-4d11-b55a-41fb195c3b8d",
   "metadata": {},
   "outputs": [
    {
     "data": {
      "text/html": [
       "<div>\n",
       "<style scoped>\n",
       "    .dataframe tbody tr th:only-of-type {\n",
       "        vertical-align: middle;\n",
       "    }\n",
       "\n",
       "    .dataframe tbody tr th {\n",
       "        vertical-align: top;\n",
       "    }\n",
       "\n",
       "    .dataframe thead th {\n",
       "        text-align: right;\n",
       "    }\n",
       "</style>\n",
       "<table border=\"1\" class=\"dataframe\">\n",
       "  <thead>\n",
       "    <tr style=\"text-align: right;\">\n",
       "      <th></th>\n",
       "      <th>Week</th>\n",
       "      <th>Gate Wait Avg</th>\n",
       "      <th>Truck Service Average</th>\n",
       "      <th>Terminal</th>\n",
       "    </tr>\n",
       "  </thead>\n",
       "  <tbody>\n",
       "    <tr>\n",
       "      <th>0</th>\n",
       "      <td>1</td>\n",
       "      <td>15</td>\n",
       "      <td>26</td>\n",
       "      <td>Fairview Cove</td>\n",
       "    </tr>\n",
       "    <tr>\n",
       "      <th>1</th>\n",
       "      <td>2</td>\n",
       "      <td>17</td>\n",
       "      <td>27</td>\n",
       "      <td>Fairview Cove</td>\n",
       "    </tr>\n",
       "    <tr>\n",
       "      <th>2</th>\n",
       "      <td>3</td>\n",
       "      <td>13</td>\n",
       "      <td>17</td>\n",
       "      <td>Fairview Cove</td>\n",
       "    </tr>\n",
       "    <tr>\n",
       "      <th>3</th>\n",
       "      <td>4</td>\n",
       "      <td>14</td>\n",
       "      <td>19</td>\n",
       "      <td>Fairview Cove</td>\n",
       "    </tr>\n",
       "    <tr>\n",
       "      <th>4</th>\n",
       "      <td>5</td>\n",
       "      <td>18</td>\n",
       "      <td>19</td>\n",
       "      <td>Fairview Cove</td>\n",
       "    </tr>\n",
       "  </tbody>\n",
       "</table>\n",
       "</div>"
      ],
      "text/plain": [
       "   Week  Gate Wait Avg  Truck Service Average       Terminal\n",
       "0     1             15                     26  Fairview Cove\n",
       "1     2             17                     27  Fairview Cove\n",
       "2     3             13                     17  Fairview Cove\n",
       "3     4             14                     19  Fairview Cove\n",
       "4     5             18                     19  Fairview Cove"
      ]
     },
     "execution_count": 18,
     "metadata": {},
     "output_type": "execute_result"
    }
   ],
   "source": [
    "df2.head()"
   ]
  },
  {
   "cell_type": "code",
   "execution_count": 23,
   "id": "94f57610-bba3-4f4c-a129-2feceb466630",
   "metadata": {},
   "outputs": [
    {
     "data": {
      "image/png": "[encoded data removed]",
      "text/plain": [
       "<Figure size 432x288 with 1 Axes>"
      ]
     },
     "metadata": {},
     "output_type": "display_data"
    }
   ],
   "source": [
    "# TODO : Inference for this one\n",
    "rel = sns.lineplot(data=df2, x=\"Week\", y=\"Gate Wait Avg\", hue='Terminal')"
   ]
  },
  {
   "cell_type": "code",
   "execution_count": 24,
   "id": "ba1b3412-f4ee-4b6f-b790-dc69706cd111",
   "metadata": {},
   "outputs": [
    {
     "data": {
      "image/png": "[encoded data removed]",
      "text/plain": [
       "<Figure size 432x288 with 1 Axes>"
      ]
     },
     "metadata": {},
     "output_type": "display_data"
    }
   ],
   "source": [
    "# TODO : Inference for this one\n",
    "rel = sns.lineplot(data=df2, x=\"Week\", y=\"Truck Service Average\", hue='Terminal')"
   ]
  },
  {
   "cell_type": "code",
   "execution_count": 25,
   "id": "47f756b9-9822-4410-90d3-5e4d6c4ee37b",
   "metadata": {},
   "outputs": [],
   "source": [
    "# TODO: weekly_avg_dwelling_times "
   ]
  },
  {
   "cell_type": "code",
   "execution_count": 27,
   "id": "866bfe47-eb3f-4587-ab65-38d76c0799c8",
   "metadata": {},
   "outputs": [],
   "source": [
    "df3 = pd.read_csv(\"../data/weekly_avg_dwelling_times.csv\")"
   ]
  },
  {
   "cell_type": "code",
   "execution_count": 28,
   "id": "187d708a-c2e6-4df2-b37e-a880f3eccef4",
   "metadata": {},
   "outputs": [
    {
     "data": {
      "text/html": [
       "<div>\n",
       "<style scoped>\n",
       "    .dataframe tbody tr th:only-of-type {\n",
       "        vertical-align: middle;\n",
       "    }\n",
       "\n",
       "    .dataframe tbody tr th {\n",
       "        vertical-align: top;\n",
       "    }\n",
       "\n",
       "    .dataframe thead th {\n",
       "        text-align: right;\n",
       "    }\n",
       "</style>\n",
       "<table border=\"1\" class=\"dataframe\">\n",
       "  <thead>\n",
       "    <tr style=\"text-align: right;\">\n",
       "      <th></th>\n",
       "      <th>Week</th>\n",
       "      <th>KPI &lt;72 hrs 90%</th>\n",
       "      <th>KPI &lt;96 hrs 100%</th>\n",
       "      <th>Avg Days on Dock</th>\n",
       "      <th>Terminal</th>\n",
       "    </tr>\n",
       "  </thead>\n",
       "  <tbody>\n",
       "    <tr>\n",
       "      <th>0</th>\n",
       "      <td>1</td>\n",
       "      <td>8.20%</td>\n",
       "      <td>11.20%</td>\n",
       "      <td>16.6</td>\n",
       "      <td>South End</td>\n",
       "    </tr>\n",
       "    <tr>\n",
       "      <th>1</th>\n",
       "      <td>2</td>\n",
       "      <td>6.60%</td>\n",
       "      <td>13.60%</td>\n",
       "      <td>12.2</td>\n",
       "      <td>South End</td>\n",
       "    </tr>\n",
       "    <tr>\n",
       "      <th>2</th>\n",
       "      <td>3</td>\n",
       "      <td>9.90%</td>\n",
       "      <td>10.10%</td>\n",
       "      <td>14.6</td>\n",
       "      <td>South End</td>\n",
       "    </tr>\n",
       "    <tr>\n",
       "      <th>3</th>\n",
       "      <td>4</td>\n",
       "      <td>9.30%</td>\n",
       "      <td>11.60%</td>\n",
       "      <td>12.8</td>\n",
       "      <td>South End</td>\n",
       "    </tr>\n",
       "    <tr>\n",
       "      <th>4</th>\n",
       "      <td>5</td>\n",
       "      <td>6.20%</td>\n",
       "      <td>7.40%</td>\n",
       "      <td>15.6</td>\n",
       "      <td>South End</td>\n",
       "    </tr>\n",
       "  </tbody>\n",
       "</table>\n",
       "</div>"
      ],
      "text/plain": [
       "   Week KPI <72 hrs 90% KPI <96 hrs 100%  Avg Days on Dock   Terminal\n",
       "0     1           8.20%           11.20%              16.6  South End\n",
       "1     2           6.60%           13.60%              12.2  South End\n",
       "2     3           9.90%           10.10%              14.6  South End\n",
       "3     4           9.30%           11.60%              12.8  South End\n",
       "4     5           6.20%            7.40%              15.6  South End"
      ]
     },
     "execution_count": 28,
     "metadata": {},
     "output_type": "execute_result"
    }
   ],
   "source": [
    "df3.head()"
   ]
  },
  {
   "cell_type": "code",
   "execution_count": 33,
   "id": "87de1e4d-519e-4f81-9372-9937b3f7521d",
   "metadata": {},
   "outputs": [
    {
     "data": {
      "image/png": "[encoded data removed]",
      "text/plain": [
       "<Figure size 450.975x360 with 1 Axes>"
      ]
     },
     "metadata": {},
     "output_type": "display_data"
    }
   ],
   "source": [
    "# TODO : Inference for this one\n",
    "rel = sns.relplot(data=df3, x=\"Week\", y=\"Avg Days on Dock\", size='Terminal')"
   ]
  },
  {
   "cell_type": "code",
   "execution_count": 34,
   "id": "3a55c110-0329-4ae3-9181-41e410b2c843",
   "metadata": {},
   "outputs": [],
   "source": [
    "# TODO: Sheet1 (Prelim Pop)_Sheet1"
   ]
  },
  {
   "cell_type": "code",
   "execution_count": 35,
   "id": "a12948c8-bfeb-4f3b-bced-e95b2c9593d1",
   "metadata": {},
   "outputs": [],
   "source": [
    "df4 = pd.read_csv(\"../data/Sheet1 (Prelim Pop)_Sheet1.csv\")"
   ]
  },
  {
   "cell_type": "code",
   "execution_count": 36,
   "id": "895c060c-4524-4492-9192-8b17a87e4f8e",
   "metadata": {},
   "outputs": [
    {
     "data": {
      "text/html": [
       "<div>\n",
       "<style scoped>\n",
       "    .dataframe tbody tr th:only-of-type {\n",
       "        vertical-align: middle;\n",
       "    }\n",
       "\n",
       "    .dataframe tbody tr th {\n",
       "        vertical-align: top;\n",
       "    }\n",
       "\n",
       "    .dataframe thead th {\n",
       "        text-align: right;\n",
       "    }\n",
       "</style>\n",
       "<table border=\"1\" class=\"dataframe\">\n",
       "  <thead>\n",
       "    <tr style=\"text-align: right;\">\n",
       "      <th></th>\n",
       "      <th>Year</th>\n",
       "      <th>Growth</th>\n",
       "      <th>Population</th>\n",
       "    </tr>\n",
       "  </thead>\n",
       "  <tbody>\n",
       "    <tr>\n",
       "      <th>0</th>\n",
       "      <td>2007-01-01</td>\n",
       "      <td>0.004534</td>\n",
       "      <td>386402</td>\n",
       "    </tr>\n",
       "    <tr>\n",
       "      <th>1</th>\n",
       "      <td>2008-01-01</td>\n",
       "      <td>0.009102</td>\n",
       "      <td>389919</td>\n",
       "    </tr>\n",
       "    <tr>\n",
       "      <th>2</th>\n",
       "      <td>2009-01-01</td>\n",
       "      <td>0.009666</td>\n",
       "      <td>393688</td>\n",
       "    </tr>\n",
       "    <tr>\n",
       "      <th>3</th>\n",
       "      <td>2010-01-01</td>\n",
       "      <td>0.011857</td>\n",
       "      <td>398356</td>\n",
       "    </tr>\n",
       "    <tr>\n",
       "      <th>4</th>\n",
       "      <td>2011-01-01</td>\n",
       "      <td>0.009333</td>\n",
       "      <td>402074</td>\n",
       "    </tr>\n",
       "  </tbody>\n",
       "</table>\n",
       "</div>"
      ],
      "text/plain": [
       "         Year    Growth  Population\n",
       "0  2007-01-01  0.004534      386402\n",
       "1  2008-01-01  0.009102      389919\n",
       "2  2009-01-01  0.009666      393688\n",
       "3  2010-01-01  0.011857      398356\n",
       "4  2011-01-01  0.009333      402074"
      ]
     },
     "execution_count": 36,
     "metadata": {},
     "output_type": "execute_result"
    }
   ],
   "source": [
    "df4.head()"
   ]
  },
  {
   "cell_type": "code",
   "execution_count": 39,
   "id": "60367258-6edc-4962-8eeb-9ef20fa4a8af",
   "metadata": {},
   "outputs": [],
   "source": [
    "df4[\"Year\"] = df4[\"Year\"].str[:4]"
   ]
  },
  {
   "cell_type": "code",
   "execution_count": 44,
   "id": "9d6bc014-e8ef-45a7-af40-9b23d3b0de5b",
   "metadata": {},
   "outputs": [
    {
     "data": {
      "text/plain": [
       "<seaborn.axisgrid.FacetGrid at 0x168e9b220>"
      ]
     },
     "execution_count": 44,
     "metadata": {},
     "output_type": "execute_result"
    },
    {
     "data": {
      "image/png": "[encoded data removed]",
      "text/plain": [
       "<Figure size 436.475x360 with 1 Axes>"
      ]
     },
     "metadata": {},
     "output_type": "display_data"
    }
   ],
   "source": [
    "sns.set(rc={'figure.figsize':(20,15)})\n",
    "\n",
    "# figure size in inches\n",
    "rcParams['figure.figsize'] = 11.7,8.27\n",
    "\n",
    "sns.relplot(x=\"Year\", y=\"Growth\", size=\"Population\", sizes=(15, 200), data=df4)"
   ]
  },
  {
   "cell_type": "code",
   "execution_count": 45,
   "id": "5ec770d0-96ff-431a-b598-fe1290044c6b",
   "metadata": {},
   "outputs": [],
   "source": [
    "# TODO: "
   ]
  },
  {
   "cell_type": "code",
   "execution_count": 46,
   "id": "241b5772-b796-4f3c-bc88-36259a1153e7",
   "metadata": {},
   "outputs": [],
   "source": [
    "df5 = pd.read_csv(\"../data/monthly_co2.csv\")"
   ]
  },
  {
   "cell_type": "code",
   "execution_count": 47,
   "id": "4e872069-7ac8-41dd-a8b9-7ad2f6be1cad",
   "metadata": {},
   "outputs": [
    {
     "data": {
      "text/html": [
       "<div>\n",
       "<style scoped>\n",
       "    .dataframe tbody tr th:only-of-type {\n",
       "        vertical-align: middle;\n",
       "    }\n",
       "\n",
       "    .dataframe tbody tr th {\n",
       "        vertical-align: top;\n",
       "    }\n",
       "\n",
       "    .dataframe thead th {\n",
       "        text-align: right;\n",
       "    }\n",
       "</style>\n",
       "<table border=\"1\" class=\"dataframe\">\n",
       "  <thead>\n",
       "    <tr style=\"text-align: right;\">\n",
       "      <th></th>\n",
       "      <th>Month</th>\n",
       "      <th>% variance from KPI</th>\n",
       "      <th>Terminal</th>\n",
       "    </tr>\n",
       "  </thead>\n",
       "  <tbody>\n",
       "    <tr>\n",
       "      <th>0</th>\n",
       "      <td>January</td>\n",
       "      <td>-50%</td>\n",
       "      <td>Fairview Cove</td>\n",
       "    </tr>\n",
       "    <tr>\n",
       "      <th>1</th>\n",
       "      <td>February</td>\n",
       "      <td>-40%</td>\n",
       "      <td>Fairview Cove</td>\n",
       "    </tr>\n",
       "    <tr>\n",
       "      <th>2</th>\n",
       "      <td>March</td>\n",
       "      <td>-47%</td>\n",
       "      <td>Fairview Cove</td>\n",
       "    </tr>\n",
       "    <tr>\n",
       "      <th>3</th>\n",
       "      <td>April</td>\n",
       "      <td>-53%</td>\n",
       "      <td>Fairview Cove</td>\n",
       "    </tr>\n",
       "    <tr>\n",
       "      <th>4</th>\n",
       "      <td>May</td>\n",
       "      <td>0%</td>\n",
       "      <td>Fairview Cove</td>\n",
       "    </tr>\n",
       "  </tbody>\n",
       "</table>\n",
       "</div>"
      ],
      "text/plain": [
       "      Month % variance from KPI       Terminal\n",
       "0   January                -50%  Fairview Cove\n",
       "1  February                -40%  Fairview Cove\n",
       "2     March                -47%  Fairview Cove\n",
       "3     April                -53%  Fairview Cove\n",
       "4       May                  0%  Fairview Cove"
      ]
     },
     "execution_count": 47,
     "metadata": {},
     "output_type": "execute_result"
    }
   ],
   "source": [
    "df5.head()"
   ]
  },
  {
   "cell_type": "code",
   "execution_count": 57,
   "id": "570fb224-6b7d-4277-8e9e-e361a114489e",
   "metadata": {},
   "outputs": [
    {
     "name": "stdout",
     "output_type": "stream",
     "text": [
      "<class 'pandas.core.frame.DataFrame'>\n",
      "RangeIndex: 10 entries, 0 to 9\n",
      "Data columns (total 4 columns):\n",
      " #   Column               Non-Null Count  Dtype \n",
      "---  ------               --------------  ----- \n",
      " 0   Month                10 non-null     object\n",
      " 1   % variance from KPI  10 non-null     object\n",
      " 2   Terminal             10 non-null     object\n",
      " 3   Pct                  10 non-null     int64 \n",
      "dtypes: int64(1), object(3)\n",
      "memory usage: 448.0+ bytes\n"
     ]
    }
   ],
   "source": [
    "df5.info()"
   ]
  },
  {
   "cell_type": "code",
   "execution_count": 56,
   "id": "84b421e3-d4b4-4d50-874c-ad84c09158db",
   "metadata": {},
   "outputs": [],
   "source": [
    "df5['Pct'] = df5[\"% variance from KPI\"].str[:-1].astype('int')"
   ]
  },
  {
   "cell_type": "code",
   "execution_count": 58,
   "id": "2795cb0c-2408-4388-8014-8727f1f5bf28",
   "metadata": {},
   "outputs": [
    {
     "data": {
      "text/html": [
       "<div>\n",
       "<style scoped>\n",
       "    .dataframe tbody tr th:only-of-type {\n",
       "        vertical-align: middle;\n",
       "    }\n",
       "\n",
       "    .dataframe tbody tr th {\n",
       "        vertical-align: top;\n",
       "    }\n",
       "\n",
       "    .dataframe thead th {\n",
       "        text-align: right;\n",
       "    }\n",
       "</style>\n",
       "<table border=\"1\" class=\"dataframe\">\n",
       "  <thead>\n",
       "    <tr style=\"text-align: right;\">\n",
       "      <th></th>\n",
       "      <th>Month</th>\n",
       "      <th>% variance from KPI</th>\n",
       "      <th>Terminal</th>\n",
       "      <th>Pct</th>\n",
       "    </tr>\n",
       "  </thead>\n",
       "  <tbody>\n",
       "    <tr>\n",
       "      <th>0</th>\n",
       "      <td>January</td>\n",
       "      <td>-50%</td>\n",
       "      <td>Fairview Cove</td>\n",
       "      <td>-50</td>\n",
       "    </tr>\n",
       "    <tr>\n",
       "      <th>1</th>\n",
       "      <td>February</td>\n",
       "      <td>-40%</td>\n",
       "      <td>Fairview Cove</td>\n",
       "      <td>-40</td>\n",
       "    </tr>\n",
       "    <tr>\n",
       "      <th>2</th>\n",
       "      <td>March</td>\n",
       "      <td>-47%</td>\n",
       "      <td>Fairview Cove</td>\n",
       "      <td>-47</td>\n",
       "    </tr>\n",
       "    <tr>\n",
       "      <th>3</th>\n",
       "      <td>April</td>\n",
       "      <td>-53%</td>\n",
       "      <td>Fairview Cove</td>\n",
       "      <td>-53</td>\n",
       "    </tr>\n",
       "    <tr>\n",
       "      <th>4</th>\n",
       "      <td>May</td>\n",
       "      <td>0%</td>\n",
       "      <td>Fairview Cove</td>\n",
       "      <td>0</td>\n",
       "    </tr>\n",
       "    <tr>\n",
       "      <th>5</th>\n",
       "      <td>January</td>\n",
       "      <td>-27%</td>\n",
       "      <td>South End</td>\n",
       "      <td>-27</td>\n",
       "    </tr>\n",
       "    <tr>\n",
       "      <th>6</th>\n",
       "      <td>February</td>\n",
       "      <td>-10%</td>\n",
       "      <td>South End</td>\n",
       "      <td>-10</td>\n",
       "    </tr>\n",
       "    <tr>\n",
       "      <th>7</th>\n",
       "      <td>March</td>\n",
       "      <td>-13%</td>\n",
       "      <td>South End</td>\n",
       "      <td>-13</td>\n",
       "    </tr>\n",
       "    <tr>\n",
       "      <th>8</th>\n",
       "      <td>April</td>\n",
       "      <td>-7%</td>\n",
       "      <td>South End</td>\n",
       "      <td>-7</td>\n",
       "    </tr>\n",
       "    <tr>\n",
       "      <th>9</th>\n",
       "      <td>May</td>\n",
       "      <td>0%</td>\n",
       "      <td>South End</td>\n",
       "      <td>0</td>\n",
       "    </tr>\n",
       "  </tbody>\n",
       "</table>\n",
       "</div>"
      ],
      "text/plain": [
       "      Month % variance from KPI       Terminal  Pct\n",
       "0   January                -50%  Fairview Cove  -50\n",
       "1  February                -40%  Fairview Cove  -40\n",
       "2     March                -47%  Fairview Cove  -47\n",
       "3     April                -53%  Fairview Cove  -53\n",
       "4       May                  0%  Fairview Cove    0\n",
       "5   January                -27%      South End  -27\n",
       "6  February                -10%      South End  -10\n",
       "7     March                -13%      South End  -13\n",
       "8     April                 -7%      South End   -7\n",
       "9       May                  0%      South End    0"
      ]
     },
     "execution_count": 58,
     "metadata": {},
     "output_type": "execute_result"
    }
   ],
   "source": [
    "df5"
   ]
  },
  {
   "cell_type": "code",
   "execution_count": 62,
   "id": "79081312-0fde-4f8b-af7c-bc117a0b6fb4",
   "metadata": {},
   "outputs": [
    {
     "data": {
      "text/plain": [
       "<seaborn.axisgrid.FacetGrid at 0x169e0c5e0>"
      ]
     },
     "execution_count": 62,
     "metadata": {},
     "output_type": "execute_result"
    },
    {
     "data": {
      "image/png": "[encoded data removed]",
      "text/plain": [
       "<Figure size 469.475x360 with 1 Axes>"
      ]
     },
     "metadata": {},
     "output_type": "display_data"
    }
   ],
   "source": [
    "sns.catplot(x=\"Month\", y=\"Pct\", hue=\"Terminal\", data=df5, kind=\"swarm\")"
   ]
  },
  {
   "cell_type": "code",
   "execution_count": 63,
   "id": "8814d9b5-b818-48cc-b141-c48d048a6c75",
   "metadata": {},
   "outputs": [],
   "source": [
    "df6 = pd.read_csv(\"../data/m_C&W Industrial Real Estate Extract_Extract.csv\")"
   ]
  },
  {
   "cell_type": "code",
   "execution_count": 65,
   "id": "6b892664-3e87-4ca8-b173-10745b3cea99",
   "metadata": {},
   "outputs": [
    {
     "data": {
      "text/html": [
       "<div>\n",
       "<style scoped>\n",
       "    .dataframe tbody tr th:only-of-type {\n",
       "        vertical-align: middle;\n",
       "    }\n",
       "\n",
       "    .dataframe tbody tr th {\n",
       "        vertical-align: top;\n",
       "    }\n",
       "\n",
       "    .dataframe thead th {\n",
       "        text-align: right;\n",
       "    }\n",
       "</style>\n",
       "<table border=\"1\" class=\"dataframe\">\n",
       "  <thead>\n",
       "    <tr style=\"text-align: right;\">\n",
       "      <th></th>\n",
       "      <th>_comparatorDateQ</th>\n",
       "      <th>_industrialFilter</th>\n",
       "      <th>_previousQ</th>\n",
       "      <th>_previousYear</th>\n",
       "      <th>Date</th>\n",
       "      <th>Market</th>\n",
       "      <th>_valueConnector</th>\n",
       "      <th>Gross Rent (psf)</th>\n",
       "      <th>Vacancy Rate</th>\n",
       "    </tr>\n",
       "  </thead>\n",
       "  <tbody>\n",
       "    <tr>\n",
       "      <th>0</th>\n",
       "      <td>Q1 2012</td>\n",
       "      <td>1</td>\n",
       "      <td>2012-10-01</td>\n",
       "      <td>2012-01-01</td>\n",
       "      <td>2013-01-01</td>\n",
       "      <td>HRM</td>\n",
       "      <td>11.58</td>\n",
       "      <td>11.58</td>\n",
       "      <td>0.081</td>\n",
       "    </tr>\n",
       "    <tr>\n",
       "      <th>4</th>\n",
       "      <td>Q1 2012</td>\n",
       "      <td>0</td>\n",
       "      <td>2012-10-01</td>\n",
       "      <td>2012-01-01</td>\n",
       "      <td>2013-01-01</td>\n",
       "      <td>Burnside</td>\n",
       "      <td>11.35</td>\n",
       "      <td>11.35</td>\n",
       "      <td>0.079</td>\n",
       "    </tr>\n",
       "    <tr>\n",
       "      <th>5</th>\n",
       "      <td>Q1 2012</td>\n",
       "      <td>0</td>\n",
       "      <td>2012-10-01</td>\n",
       "      <td>2012-01-01</td>\n",
       "      <td>2013-01-01</td>\n",
       "      <td>Halifax</td>\n",
       "      <td>12.72</td>\n",
       "      <td>12.72</td>\n",
       "      <td>0.065</td>\n",
       "    </tr>\n",
       "    <tr>\n",
       "      <th>8</th>\n",
       "      <td>Q2 2012</td>\n",
       "      <td>1</td>\n",
       "      <td>2013-01-01</td>\n",
       "      <td>2012-04-01</td>\n",
       "      <td>2013-04-01</td>\n",
       "      <td>HRM</td>\n",
       "      <td>11.60</td>\n",
       "      <td>11.60</td>\n",
       "      <td>0.079</td>\n",
       "    </tr>\n",
       "    <tr>\n",
       "      <th>12</th>\n",
       "      <td>Q2 2012</td>\n",
       "      <td>0</td>\n",
       "      <td>2013-01-01</td>\n",
       "      <td>2012-04-01</td>\n",
       "      <td>2013-04-01</td>\n",
       "      <td>Burnside</td>\n",
       "      <td>11.35</td>\n",
       "      <td>11.35</td>\n",
       "      <td>0.074</td>\n",
       "    </tr>\n",
       "    <tr>\n",
       "      <th>...</th>\n",
       "      <td>...</td>\n",
       "      <td>...</td>\n",
       "      <td>...</td>\n",
       "      <td>...</td>\n",
       "      <td>...</td>\n",
       "      <td>...</td>\n",
       "      <td>...</td>\n",
       "      <td>...</td>\n",
       "      <td>...</td>\n",
       "    </tr>\n",
       "    <tr>\n",
       "      <th>291</th>\n",
       "      <td>Q1 2021</td>\n",
       "      <td>0</td>\n",
       "      <td>2021-10-01</td>\n",
       "      <td>2021-01-01</td>\n",
       "      <td>2022-01-01</td>\n",
       "      <td>Burnside</td>\n",
       "      <td>13.81</td>\n",
       "      <td>13.81</td>\n",
       "      <td>0.040</td>\n",
       "    </tr>\n",
       "    <tr>\n",
       "      <th>292</th>\n",
       "      <td>Q1 2021</td>\n",
       "      <td>0</td>\n",
       "      <td>2021-10-01</td>\n",
       "      <td>2021-01-01</td>\n",
       "      <td>2022-01-01</td>\n",
       "      <td>Halifax</td>\n",
       "      <td>13.69</td>\n",
       "      <td>13.69</td>\n",
       "      <td>0.028</td>\n",
       "    </tr>\n",
       "    <tr>\n",
       "      <th>293</th>\n",
       "      <td>Q1 2021</td>\n",
       "      <td>0</td>\n",
       "      <td>2021-10-01</td>\n",
       "      <td>2021-01-01</td>\n",
       "      <td>2022-01-01</td>\n",
       "      <td>Ragged Lake Business Park</td>\n",
       "      <td>15.15</td>\n",
       "      <td>15.15</td>\n",
       "      <td>0.038</td>\n",
       "    </tr>\n",
       "    <tr>\n",
       "      <th>294</th>\n",
       "      <td>Q1 2021</td>\n",
       "      <td>0</td>\n",
       "      <td>2021-10-01</td>\n",
       "      <td>2021-01-01</td>\n",
       "      <td>2022-01-01</td>\n",
       "      <td>Sackville</td>\n",
       "      <td>12.03</td>\n",
       "      <td>12.03</td>\n",
       "      <td>0.000</td>\n",
       "    </tr>\n",
       "    <tr>\n",
       "      <th>295</th>\n",
       "      <td>Q1 2021</td>\n",
       "      <td>1</td>\n",
       "      <td>2021-10-01</td>\n",
       "      <td>2021-01-01</td>\n",
       "      <td>2022-01-01</td>\n",
       "      <td>HRM</td>\n",
       "      <td>13.91</td>\n",
       "      <td>13.91</td>\n",
       "      <td>0.038</td>\n",
       "    </tr>\n",
       "  </tbody>\n",
       "</table>\n",
       "<p>189 rows × 9 columns</p>\n",
       "</div>"
      ],
      "text/plain": [
       "    _comparatorDateQ  _industrialFilter  _previousQ _previousYear        Date  \\\n",
       "0            Q1 2012                  1  2012-10-01    2012-01-01  2013-01-01   \n",
       "4            Q1 2012                  0  2012-10-01    2012-01-01  2013-01-01   \n",
       "5            Q1 2012                  0  2012-10-01    2012-01-01  2013-01-01   \n",
       "8            Q2 2012                  1  2013-01-01    2012-04-01  2013-04-01   \n",
       "12           Q2 2012                  0  2013-01-01    2012-04-01  2013-04-01   \n",
       "..               ...                ...         ...           ...         ...   \n",
       "291          Q1 2021                  0  2021-10-01    2021-01-01  2022-01-01   \n",
       "292          Q1 2021                  0  2021-10-01    2021-01-01  2022-01-01   \n",
       "293          Q1 2021                  0  2021-10-01    2021-01-01  2022-01-01   \n",
       "294          Q1 2021                  0  2021-10-01    2021-01-01  2022-01-01   \n",
       "295          Q1 2021                  1  2021-10-01    2021-01-01  2022-01-01   \n",
       "\n",
       "                        Market  _valueConnector  Gross Rent (psf)  \\\n",
       "0                          HRM            11.58             11.58   \n",
       "4                     Burnside            11.35             11.35   \n",
       "5                      Halifax            12.72             12.72   \n",
       "8                          HRM            11.60             11.60   \n",
       "12                    Burnside            11.35             11.35   \n",
       "..                         ...              ...               ...   \n",
       "291                   Burnside            13.81             13.81   \n",
       "292                    Halifax            13.69             13.69   \n",
       "293  Ragged Lake Business Park            15.15             15.15   \n",
       "294                  Sackville            12.03             12.03   \n",
       "295                        HRM            13.91             13.91   \n",
       "\n",
       "     Vacancy Rate  \n",
       "0           0.081  \n",
       "4           0.079  \n",
       "5           0.065  \n",
       "8           0.079  \n",
       "12          0.074  \n",
       "..            ...  \n",
       "291         0.040  \n",
       "292         0.028  \n",
       "293         0.038  \n",
       "294         0.000  \n",
       "295         0.038  \n",
       "\n",
       "[189 rows x 9 columns]"
      ]
     },
     "execution_count": 65,
     "metadata": {},
     "output_type": "execute_result"
    }
   ],
   "source": [
    "df6.dropna()"
   ]
  },
  {
   "cell_type": "code",
   "execution_count": 66,
   "id": "cc5af353-803a-408d-8356-55fd9f43a303",
   "metadata": {},
   "outputs": [
    {
     "name": "stderr",
     "output_type": "stream",
     "text": [
      "Summarize dataset: 100%|██████████| 33/33 [00:02<00:00, 11.10it/s, Completed]                                 \n",
      "Generate report structure: 100%|██████████| 1/1 [00:01<00:00,  1.37s/it]\n",
      "Render HTML: 100%|██████████| 1/1 [00:00<00:00,  2.62it/s]\n",
      "Export report to file: 100%|██████████| 1/1 [00:00<00:00, 337.73it/s]\n"
     ]
    }
   ],
   "source": [
    "profile_ = df6.profile_report()\n",
    "profile_.to_file(output_file=\"../reports/REPORT002.html\")"
   ]
  },
  {
   "cell_type": "code",
   "execution_count": 67,
   "id": "14ddeed1-8a03-4821-8320-b5916a2c9d76",
   "metadata": {},
   "outputs": [],
   "source": [
    "df7 = pd.read_csv(\"../data/m_C&W Office Real Estate Extract_Extract.csv\")"
   ]
  },
  {
   "cell_type": "code",
   "execution_count": 68,
   "id": "0ae725ef-fc1b-457e-8d59-db5b9b5744b3",
   "metadata": {},
   "outputs": [
    {
     "name": "stderr",
     "output_type": "stream",
     "text": [
      "Summarize dataset: 100%|██████████| 38/38 [00:02<00:00, 17.55it/s, Completed]                                                              \n",
      "Generate report structure: 100%|██████████| 1/1 [00:01<00:00,  1.45s/it]\n",
      "Render HTML: 100%|██████████| 1/1 [00:00<00:00,  2.27it/s]\n",
      "Export report to file: 100%|██████████| 1/1 [00:00<00:00, 187.26it/s]\n"
     ]
    }
   ],
   "source": [
    "profile_ = df7.profile_report()\n",
    "profile_.to_file(output_file=\"../reports/REPORT003.html\")"
   ]
  },
  {
   "cell_type": "code",
   "execution_count": null,
   "id": "ff7a751f-9a3b-4f38-88d4-3a7aa7848887",
   "metadata": {},
   "outputs": [],
   "source": []
  }
 ],
 "metadata": {
  "kernelspec": {
   "display_name": "Python 3",
   "language": "python",
   "name": "python3"
  },
  "language_info": {
   "codemirror_mode": {
    "name": "ipython",
    "version": 3
   },
   "file_extension": ".py",
   "mimetype": "text/x-python",
   "name": "python",
   "nbconvert_exporter": "python",
   "pygments_lexer": "ipython3",
   "version": "3.8.9"
  }
 },
 "nbformat": 4,
 "nbformat_minor": 5
}
